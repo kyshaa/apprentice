{
 "cells": [
  {
   "cell_type": "markdown",
   "metadata": {},
   "source": [
    "# Assignment\n",
    "\n",
    "1. create a random array of shape (6x6)\n",
    "2. convert the array to an identity matrix"
   ]
  },
  {
   "cell_type": "markdown",
   "metadata": {},
   "source": [
    "$$\n",
    "\n",
    "I = \n",
    "\\begin{bmatrix}\n",
    "1 & 0 & 0 & 0 & 0 & 0 \\\\\n",
    "0 & 1 & 0 & 0 & 0 & 0 \\\\\n",
    "0 & 0 & 1 & 0 & 0 & 0 \\\\\n",
    "0 & 0 & 0 & 1 & 0 & 0 \\\\\n",
    "0 & 0 & 0 & 0 & 1 & 0 \\\\\n",
    "0 & 0 & 0 & 0 & 0 & 1 \\\\\n",
    "\\end{bmatrix}\n",
    "\n",
    "$$\n",
    "\n",
    "$$\n",
    "\n",
    "A.A^{-1} = A^{-1}.A = I\n",
    "\n",
    "$$"
   ]
  },
  {
   "cell_type": "code",
   "execution_count": 1,
   "metadata": {},
   "outputs": [],
   "source": [
    "def array_properties(a, label='a'):\n",
    "    print(label, '= ')\n",
    "    print(a)\n",
    "    print(\"dim = \", a.ndim)\n",
    "    print(\"shape = \", a.shape)\n",
    "    print(\"datatype = \", a.dtype)\n",
    "    print(\"size = \", a.size)\n",
    "    print()"
   ]
  },
  {
   "cell_type": "code",
   "execution_count": 3,
   "metadata": {},
   "outputs": [],
   "source": [
    "# Q1 : Create a random array A, using randint seed 2 of shape (6x6)\n",
    "\n",
    "import numpy as np\n",
    "\n",
    "np.random.seed(2)\n",
    "\n",
    "I = np.eye(6)\n",
    "A = np.random.randint(1,10, (6,6))"
   ]
  },
  {
   "cell_type": "code",
   "execution_count": 5,
   "metadata": {},
   "outputs": [
    {
     "name": "stdout",
     "output_type": "stream",
     "text": [
      "I:\n",
      " [[1. 0. 0. 0. 0. 0.]\n",
      " [0. 1. 0. 0. 0. 0.]\n",
      " [0. 0. 1. 0. 0. 0.]\n",
      " [0. 0. 0. 1. 0. 0.]\n",
      " [0. 0. 0. 0. 1. 0.]\n",
      " [0. 0. 0. 0. 0. 1.]]\n",
      "\n",
      "A @ inverse_A:\n",
      " [[1 0 0 0 0 0]\n",
      " [0 1 0 0 0 0]\n",
      " [0 0 1 0 0 0]\n",
      " [0 0 0 1 0 0]\n",
      " [0 0 0 0 1 0]\n",
      " [0 0 0 0 0 1]]\n",
      "\n",
      "inverse_A @ A:\n",
      " [[1 0 0 0 0 0]\n",
      " [0 1 0 0 0 0]\n",
      " [0 0 1 0 0 0]\n",
      " [0 0 0 1 0 0]\n",
      " [0 0 0 0 1 0]\n",
      " [0 0 0 0 0 1]]\n",
      "\n",
      "A @ inverse_A == I:\n",
      " [[ True  True  True  True  True  True]\n",
      " [ True  True  True  True  True  True]\n",
      " [ True  True  True  True  True  True]\n",
      " [ True  True  True  True  True  True]\n",
      " [ True  True  True  True  True  True]\n",
      " [ True  True  True  True  True  True]]\n",
      "\n",
      "inverse_A @ A == I:\n",
      " [[ True  True  True  True  True  True]\n",
      " [ True  True  True  True  True  True]\n",
      " [ True  True  True  True  True  True]\n",
      " [ True  True  True  True  True  True]\n",
      " [ True  True  True  True  True  True]\n",
      " [ True  True  True  True  True  True]]\n"
     ]
    }
   ],
   "source": [
    "# Q2 : Convert the array A, to an identity matrix I.\n",
    "\n",
    "inverse_A = np.linalg.inv(A) \n",
    "\n",
    "# Dot product A . A-1\n",
    "C = A @ inverse_A\n",
    "C = np.round(C).astype(int) # round up the float & convert to int\n",
    "\n",
    "# Position changed to A-1 . A\n",
    "C2 = inverse_A @ A \n",
    "C2 = np.round(C2).astype(int)\n",
    "\n",
    "print('I:\\n', I)\n",
    "print()\n",
    "print('A @ inverse_A:\\n', C)\n",
    "print()\n",
    "print('inverse_A @ A:\\n', C)\n",
    "print()\n",
    "\n",
    "# Compare A.A-1 with identity matrix\n",
    "print('A @ inverse_A == I:\\n', C == I) \n",
    "\n",
    "# Compare A-1.A with identity matrix\n",
    "print('\\ninverse_A @ A == I:\\n', C2 == I) "
   ]
  },
  {
   "cell_type": "code",
   "execution_count": 7,
   "metadata": {},
   "outputs": [
    {
     "name": "stdout",
     "output_type": "stream",
     "text": [
      "A:\n",
      " [[9 9 7 3 9 8]\n",
      " [3 2 6 5 5 6]\n",
      " [8 4 7 5 4 8]\n",
      " [7 2 4 6 9 5]\n",
      " [7 4 3 1 5 3]\n",
      " [5 2 8 9 3 9]]\n",
      "\n",
      "Inverse of A:\n",
      " [[-0.11797753 -0.1011236   0.09430177  0.01163724  0.20987159  0.01203852]\n",
      " [ 0.2247191  -0.23595506 -0.4823435  -0.12760835  0.21589085  0.38523274]\n",
      " [-0.29213483  0.60674157 -0.49438202 -0.42696629  0.95505618  0.21348315]\n",
      " [ 0.04494382 -0.24719101 -0.53932584 -0.01123596  0.31460674  0.50561798]\n",
      " [ 0.01685393  0.15730337  0.04775281  0.12078652 -0.13202247 -0.18539326]\n",
      " [ 0.2247191  -0.23595506  1.0176565   0.37239165 -1.28410915 -0.61476726]]\n"
     ]
    }
   ],
   "source": [
    "print('A:\\n', A)\n",
    "print('\\nInverse of A:\\n', inverse_A)"
   ]
  }
 ],
 "metadata": {
  "interpreter": {
   "hash": "63fd5069d213b44bf678585dea6b12cceca9941eaf7f819626cde1f2670de90d"
  },
  "kernelspec": {
   "display_name": "Python 3.9.1 64-bit",
   "language": "python",
   "name": "python3"
  },
  "language_info": {
   "codemirror_mode": {
    "name": "ipython",
    "version": 3
   },
   "file_extension": ".py",
   "mimetype": "text/x-python",
   "name": "python",
   "nbconvert_exporter": "python",
   "pygments_lexer": "ipython3",
   "version": "3.9.1"
  },
  "orig_nbformat": 4
 },
 "nbformat": 4,
 "nbformat_minor": 2
}
