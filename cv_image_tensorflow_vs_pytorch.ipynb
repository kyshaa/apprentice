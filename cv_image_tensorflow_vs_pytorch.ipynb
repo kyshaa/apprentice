{
 "cells": [
  {
   "cell_type": "markdown",
   "metadata": {},
   "source": [
    "$\n",
    "Tensorflow \\ vs \\ Pytorch\n",
    "$"
   ]
  },
  {
   "cell_type": "code",
   "execution_count": 1,
   "metadata": {},
   "outputs": [],
   "source": [
    "import tensorflow as tf\n",
    "import numpy as np\n",
    "import matplotlib.pyplot as plt\n",
    "import cv2 as cv\n",
    "import torch\n",
    "from torch import nn\n",
    "from torch.utils.data import DataLoader\n",
    "from torchvision.transforms import ToTensor, Lambda, Compose\n",
    "import torchvision\n",
    "from sklearn.model_selection import train_test_split\n",
    "import random\n",
    "from timeit import timeit"
   ]
  },
  {
   "cell_type": "markdown",
   "metadata": {},
   "source": [
    "### Tensorflow"
   ]
  },
  {
   "cell_type": "code",
   "execution_count": 2,
   "metadata": {},
   "outputs": [
    {
     "name": "stdout",
     "output_type": "stream",
     "text": [
      "float64 float64 (423, 200, 200, 3)\n"
     ]
    }
   ],
   "source": [
    "dataSet = 'master_dataset.npz'\n",
    "with np.load(dataSet, allow_pickle=True) as data:\n",
    "    dataImages = data['images']\n",
    "    dataLabels = data['labels'].astype('int64')\n",
    "    dataLabelNames = data['labelnames']\n",
    "    \n",
    "classNames = sorted(np.unique(dataLabelNames))\n",
    "classLabels = sorted(np.unique(dataLabels))\n",
    "\n",
    "# Convert size \n",
    "\n",
    "N = len(dataImages)\n",
    "shape = (N, 200, 200, 3)\n",
    "y = np.empty(shape)\n",
    "\n",
    "for i in range(N):\n",
    "    y[i] = cv.resize(dataImages[i], [200,200], interpolation=cv.INTER_NEAREST)\n",
    "\n",
    "dataImages = y\n",
    "print(dataImages.dtype, y.dtype, y.shape)"
   ]
  },
  {
   "cell_type": "code",
   "execution_count": 4,
   "metadata": {},
   "outputs": [
    {
     "name": "stdout",
     "output_type": "stream",
     "text": [
      "Model: \"sequential_1\"\n",
      "_________________________________________________________________\n",
      " Layer (type)                Output Shape              Param #   \n",
      "=================================================================\n",
      " flatten_1 (Flatten)         (None, 120000)            0         \n",
      "                                                                 \n",
      " dense_3 (Dense)             (None, 128)               15360128  \n",
      "                                                                 \n",
      " dense_4 (Dense)             (None, 9)                 1161      \n",
      "                                                                 \n",
      "=================================================================\n",
      "Total params: 15,361,289\n",
      "Trainable params: 15,361,289\n",
      "Non-trainable params: 0\n",
      "_________________________________________________________________\n"
     ]
    }
   ],
   "source": [
    "exportPath = 'tf_model/tf_96'\n",
    "\n",
    "newModel = tf.keras.models.load_model(exportPath)\n",
    "\n",
    "newModel.summary()"
   ]
  },
  {
   "cell_type": "code",
   "execution_count": 5,
   "metadata": {},
   "outputs": [
    {
     "name": "stdout",
     "output_type": "stream",
     "text": [
      "14/14 - 1s - loss: 26.9501 - accuracy: 0.9787 - 1s/epoch - 102ms/step\n",
      "Restored model, accuracy: 97.87\n",
      "(423, 9)\n"
     ]
    }
   ],
   "source": [
    "loss, acc = newModel.evaluate(dataImages, dataLabels, verbose = 2)\n",
    "print(f'Restored model, accuracy: {100*acc:5.2f}')\n",
    "\n",
    "\n",
    "newPredictions = newModel.predict(dataImages)\n",
    "print(newPredictions.shape)"
   ]
  },
  {
   "cell_type": "markdown",
   "metadata": {},
   "source": [
    "### Pytorch"
   ]
  },
  {
   "cell_type": "code",
   "execution_count": 6,
   "metadata": {},
   "outputs": [
    {
     "name": "stdout",
     "output_type": "stream",
     "text": [
      "float64 float64 (423, 200, 200, 3)\n",
      "Shape of X [N, C, H, W]:  torch.Size([20, 200, 200, 3])\n",
      "Shape of y:  torch.Size([20]) torch.int64\n"
     ]
    }
   ],
   "source": [
    "dataSet = 'master_dataset.npz'\n",
    "with np.load(dataSet, allow_pickle=True) as data:\n",
    "    dataImages = data['images']\n",
    "    dataLabels = data['labels'].astype('int64')\n",
    "    dataLabelNames = data['labelnames']\n",
    "    \n",
    "classNames = sorted(np.unique(dataLabelNames))\n",
    "classLabels = sorted(np.unique(dataLabels))\n",
    "\n",
    "# Convert size \n",
    "\n",
    "N = len(dataImages)\n",
    "shape = (N, 200, 200, 3)\n",
    "y = np.empty(shape)\n",
    "\n",
    "for i in range(N):\n",
    "    y[i] = cv.resize(dataImages[i], [200,200], interpolation=cv.INTER_NEAREST)\n",
    "\n",
    "dataImages = y\n",
    "print(dataImages.dtype, y.dtype, y.shape)\n",
    "\n",
    "dataImages = dataImages / 255.0\n",
    "dataImages2 = torch.Tensor(dataImages)\n",
    "\n",
    "# Convert to tuple\n",
    "\n",
    "all_data = []\n",
    "for i in range(len(dataImages2)):\n",
    "   all_data.append([dataImages2[i], dataLabels[i]])\n",
    "\n",
    "random.shuffle(all_data)\n",
    "\n",
    "classes = {\n",
    "    0: \"afiq\",\n",
    "    1: \"azureen\",\n",
    "    2: \"gavin\",\n",
    "    3: \"goke\",\n",
    "    4: \"inamul\",\n",
    "    5: \"jincheng\",\n",
    "    6: \"mahmuda\",\n",
    "    7: \"numan\",\n",
    "    8: \"saseendran\"\n",
    "}\n",
    "\n",
    "X, y = all_data[0]\n",
    "\n",
    "batch_size = 20\n",
    "\n",
    "# Create data loaders.\n",
    "test_dataloader = DataLoader(all_data, batch_size=batch_size)\n",
    "\n",
    "for X, y in test_dataloader:\n",
    "    print(\"Shape of X [N, C, H, W]: \", X.shape)\n",
    "    print(\"Shape of y: \", y.shape, y.dtype)\n",
    "    break"
   ]
  },
  {
   "cell_type": "code",
   "execution_count": 7,
   "metadata": {},
   "outputs": [
    {
     "name": "stdout",
     "output_type": "stream",
     "text": [
      "Using cpu device\n",
      "NeuralNetwork(\n",
      "  (flatten): Flatten(start_dim=1, end_dim=-1)\n",
      "  (linear_relu_stack): Sequential(\n",
      "    (0): Linear(in_features=120000, out_features=512, bias=True)\n",
      "    (1): ReLU()\n",
      "    (2): Linear(in_features=512, out_features=512, bias=True)\n",
      "    (3): ReLU()\n",
      "    (4): Linear(in_features=512, out_features=512, bias=True)\n",
      "    (5): ReLU()\n",
      "    (6): Linear(in_features=512, out_features=9, bias=True)\n",
      "  )\n",
      ")\n"
     ]
    }
   ],
   "source": [
    "import torch\n",
    "\n",
    "# Get cpu or gpu device for training.\n",
    "device = \"cuda\" if torch.cuda.is_available() else \"cpu\"\n",
    "print(f\"Using {device} device\")\n",
    "\n",
    "input_features = 3*200*200\n",
    "# Define model\n",
    "class NeuralNetwork(nn.Module):\n",
    "    def __init__(self):\n",
    "        super(NeuralNetwork, self).__init__()\n",
    "        self.flatten = nn.Flatten()\n",
    "        self.linear_relu_stack = nn.Sequential(\n",
    "            nn.Linear(input_features, 512),\n",
    "            nn.ReLU(),\n",
    "            nn.Linear(512, 512),\n",
    "            nn.ReLU(),\n",
    "            nn.Linear(512, 512),\n",
    "            nn.ReLU(),\n",
    "            nn.Linear(512, 9)\n",
    "        )\n",
    "\n",
    "    def forward(self, x):\n",
    "        x = self.flatten(x)\n",
    "        logits = self.linear_relu_stack(x)\n",
    "        return logits\n",
    "\n",
    "model = NeuralNetwork().to(device)\n",
    "print(model)\n",
    "\n",
    "def test(dataloader, model, loss_fn):\n",
    "    size = len(dataloader.dataset)\n",
    "    num_batches = len(dataloader)\n",
    "    model.eval()\n",
    "    test_loss, correct = 0, 0\n",
    "    with torch.no_grad():\n",
    "        for X, y in dataloader:\n",
    "            X, y = X.to(device), y.to(device)\n",
    "            pred = model(X)\n",
    "            test_loss += loss_fn(pred, y).item()\n",
    "            correct += (pred.argmax(1) == y).type(torch.float).sum().item()\n",
    "    test_loss /= num_batches\n",
    "    correct /= size\n",
    "    print(f\"Test Error: \\n Accuracy: {(100*correct):>0.1f}%, Avg loss: {test_loss:>8f} \\n\")\n",
    "    \n",
    "    return test_loss, correct\n"
   ]
  },
  {
   "cell_type": "code",
   "execution_count": 8,
   "metadata": {},
   "outputs": [
    {
     "data": {
      "text/plain": [
       "<All keys matched successfully>"
      ]
     },
     "execution_count": 8,
     "metadata": {},
     "output_type": "execute_result"
    }
   ],
   "source": [
    "model = NeuralNetwork().to(device)\n",
    "model.load_state_dict(torch.load(\"pth_94.pth\"))"
   ]
  },
  {
   "cell_type": "code",
   "execution_count": 9,
   "metadata": {},
   "outputs": [
    {
     "name": "stdout",
     "output_type": "stream",
     "text": [
      "Test Error: \n",
      " Accuracy: 97.6%, Avg loss: 0.133872 \n",
      "\n"
     ]
    }
   ],
   "source": [
    "loss_fn = nn.CrossEntropyLoss()\n",
    "model.eval()\n",
    "\n",
    "test(test_dataloader, model, loss_fn)\n",
    "optimizer = torch.optim.SGD(model.parameters(), lr=1e-3)"
   ]
  }
 ],
 "metadata": {
  "interpreter": {
   "hash": "c1a7846af735771808fbc8272134e7984cc669109ae413ca91ad8b74a534aa1b"
  },
  "kernelspec": {
   "display_name": "Python 3.9.9 64-bit",
   "language": "python",
   "name": "python3"
  },
  "language_info": {
   "codemirror_mode": {
    "name": "ipython",
    "version": 3
   },
   "file_extension": ".py",
   "mimetype": "text/x-python",
   "name": "python",
   "nbconvert_exporter": "python",
   "pygments_lexer": "ipython3",
   "version": "3.9.9"
  },
  "orig_nbformat": 4
 },
 "nbformat": 4,
 "nbformat_minor": 2
}
