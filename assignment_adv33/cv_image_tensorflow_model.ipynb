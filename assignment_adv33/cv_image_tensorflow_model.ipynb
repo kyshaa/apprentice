{
 "cells": [
  {
   "cell_type": "markdown",
   "metadata": {},
   "source": [
    "$\n",
    "Model \\ for \\ Tensorflow\n",
    "$"
   ]
  },
  {
   "cell_type": "code",
   "execution_count": 1,
   "metadata": {},
   "outputs": [
    {
     "name": "stdout",
     "output_type": "stream",
     "text": [
      "2.7.0\n"
     ]
    }
   ],
   "source": [
    "import tensorflow as tf\n",
    "import numpy as np\n",
    "from sklearn.model_selection import train_test_split\n",
    "import matplotlib.pyplot as plt\n",
    "import cv2 as cv\n",
    "import time\n",
    "import timeit\n",
    "\n",
    "print(tf.__version__)"
   ]
  },
  {
   "cell_type": "markdown",
   "metadata": {},
   "source": [
    "Load data"
   ]
  },
  {
   "cell_type": "code",
   "execution_count": 2,
   "metadata": {},
   "outputs": [
    {
     "name": "stdout",
     "output_type": "stream",
     "text": [
      "['afiq', 'azureen', 'gavin', 'goke', 'inamul', 'jincheng', 'mahmuda', 'numan', 'saseendran']\n",
      "[0, 1, 2, 3, 4, 5, 6, 7, 8]\n"
     ]
    }
   ],
   "source": [
    "datasetfilename = 'master_dataset.npz'\n",
    "\n",
    "with np.load(datasetfilename, allow_pickle=True) as data:\n",
    "    dataImages = data['images']\n",
    "    dataLabel = data['labels']\n",
    "    dataLabelNames = data['labelnames']\n",
    "\n",
    "classNames = sorted(np.unique(dataLabelNames))\n",
    "classLabels = sorted(np.unique(dataLabel))\n",
    "\n",
    "print(classNames)\n",
    "print(classLabels)"
   ]
  },
  {
   "cell_type": "markdown",
   "metadata": {},
   "source": [
    "### Convert size"
   ]
  },
  {
   "cell_type": "code",
   "execution_count": 4,
   "metadata": {},
   "outputs": [],
   "source": [
    "N = len(dataImages)\n",
    "shape = (N, 200,200,3)\n",
    "\n",
    "y = np.empty(shape, dtype='uint8')\n",
    "\n",
    "for i in range(N):\n",
    "    y[i] = cv.resize(dataImages[i], [200,200], interpolation=cv.INTER_NEAREST)\n",
    "    \n",
    "dataImages = y\n",
    "\n",
    "dataLabel = dataLabel.astype('uint8')\n",
    "\n",
    "trainImages, testImages, trainLabels, testLabels = train_test_split(dataImages, dataLabel, test_size=0.3, random_state=42)\n",
    "\n",
    "for i in range(len(trainImages)):\n",
    "    trainImages[i] = cv.resize(trainImages[i], [200,200], interpolation=cv.INTER_NEAREST)\n"
   ]
  },
  {
   "cell_type": "code",
   "execution_count": 5,
   "metadata": {},
   "outputs": [],
   "source": [
    "###\n",
    "inputShape = trainImages[0].shape\n",
    "outputShape = len(classNames)\n",
    "\n",
    "trainImages = trainImages / 255\n",
    "testImages = testImages / 255"
   ]
  },
  {
   "cell_type": "markdown",
   "metadata": {},
   "source": [
    "### Create model"
   ]
  },
  {
   "cell_type": "code",
   "execution_count": 6,
   "metadata": {},
   "outputs": [],
   "source": [
    "import tensorflow as tf\n",
    "\n",
    "model = tf.keras.Sequential([\n",
    "    tf.keras.layers.Flatten(input_shape=inputShape),\n",
    "    tf.keras.layers.Dense(512, activation='relu'),\n",
    "    tf.keras.layers.Dense(512, activation='relu'),\n",
    "    tf.keras.layers.Dense(outputShape)\n",
    "])"
   ]
  },
  {
   "cell_type": "code",
   "execution_count": 7,
   "metadata": {},
   "outputs": [
    {
     "name": "stdout",
     "output_type": "stream",
     "text": [
      "Model: \"sequential\"\n",
      "_________________________________________________________________\n",
      " Layer (type)                Output Shape              Param #   \n",
      "=================================================================\n",
      " flatten (Flatten)           (None, 120000)            0         \n",
      "                                                                 \n",
      " dense (Dense)               (None, 512)               61440512  \n",
      "                                                                 \n",
      " dense_1 (Dense)             (None, 512)               262656    \n",
      "                                                                 \n",
      " dense_2 (Dense)             (None, 9)                 4617      \n",
      "                                                                 \n",
      "=================================================================\n",
      "Total params: 61,707,785\n",
      "Trainable params: 61,707,785\n",
      "Non-trainable params: 0\n",
      "_________________________________________________________________\n",
      "Epoch 1/30\n",
      "10/10 [==============================] - 86s 3s/step - loss: 85.2787 - accuracy: 0.1926\n",
      "Epoch 2/30\n",
      "10/10 [==============================] - 9s 813ms/step - loss: 13.7777 - accuracy: 0.4527\n",
      "Epoch 3/30\n",
      "10/10 [==============================] - 4s 436ms/step - loss: 2.7671 - accuracy: 0.6250\n",
      "Epoch 4/30\n",
      "10/10 [==============================] - 5s 459ms/step - loss: 1.0218 - accuracy: 0.8074\n",
      "Epoch 5/30\n",
      "10/10 [==============================] - 4s 427ms/step - loss: 0.4409 - accuracy: 0.8953\n",
      "Epoch 6/30\n",
      "10/10 [==============================] - 4s 422ms/step - loss: 0.4371 - accuracy: 0.9189\n",
      "Epoch 7/30\n",
      "10/10 [==============================] - 6s 417ms/step - loss: 0.3760 - accuracy: 0.9122\n",
      "Epoch 8/30\n",
      "10/10 [==============================] - 4s 432ms/step - loss: 0.2630 - accuracy: 0.9324\n",
      "Epoch 9/30\n",
      "10/10 [==============================] - 4s 421ms/step - loss: 0.2720 - accuracy: 0.9257\n",
      "Epoch 10/30\n",
      "10/10 [==============================] - 4s 415ms/step - loss: 0.1404 - accuracy: 0.9595\n",
      "Epoch 11/30\n",
      "10/10 [==============================] - 4s 431ms/step - loss: 0.0964 - accuracy: 0.9628\n",
      "Epoch 12/30\n",
      "10/10 [==============================] - 4s 436ms/step - loss: 0.2149 - accuracy: 0.9392\n",
      "Epoch 13/30\n",
      "10/10 [==============================] - 4s 420ms/step - loss: 0.0669 - accuracy: 0.9831\n",
      "Epoch 14/30\n",
      "10/10 [==============================] - 4s 418ms/step - loss: 0.0423 - accuracy: 0.9831\n",
      "Epoch 15/30\n",
      "10/10 [==============================] - 4s 412ms/step - loss: 0.0202 - accuracy: 0.9932\n",
      "Epoch 16/30\n",
      "10/10 [==============================] - 4s 413ms/step - loss: 0.0066 - accuracy: 0.9966\n",
      "Epoch 17/30\n",
      "10/10 [==============================] - 4s 419ms/step - loss: 0.0048 - accuracy: 1.0000\n",
      "Epoch 18/30\n",
      "10/10 [==============================] - 4s 420ms/step - loss: 0.0015 - accuracy: 1.0000\n",
      "Epoch 19/30\n",
      "10/10 [==============================] - 4s 425ms/step - loss: 2.8560e-04 - accuracy: 1.0000\n",
      "Epoch 20/30\n",
      "10/10 [==============================] - 4s 421ms/step - loss: 5.0421e-04 - accuracy: 1.0000\n",
      "Epoch 21/30\n",
      "10/10 [==============================] - 4s 420ms/step - loss: 2.3468e-04 - accuracy: 1.0000\n",
      "Epoch 22/30\n",
      "10/10 [==============================] - 4s 423ms/step - loss: 1.8177e-04 - accuracy: 1.0000\n",
      "Epoch 23/30\n",
      "10/10 [==============================] - 4s 422ms/step - loss: 1.7256e-04 - accuracy: 1.0000\n",
      "Epoch 24/30\n",
      "10/10 [==============================] - 4s 439ms/step - loss: 1.6454e-04 - accuracy: 1.0000\n",
      "Epoch 25/30\n",
      "10/10 [==============================] - 4s 430ms/step - loss: 1.5253e-04 - accuracy: 1.0000\n",
      "Epoch 26/30\n",
      "10/10 [==============================] - 4s 426ms/step - loss: 1.4835e-04 - accuracy: 1.0000\n",
      "Epoch 27/30\n",
      "10/10 [==============================] - 4s 432ms/step - loss: 1.4217e-04 - accuracy: 1.0000\n",
      "Epoch 28/30\n",
      "10/10 [==============================] - 4s 416ms/step - loss: 1.3781e-04 - accuracy: 1.0000\n",
      "Epoch 29/30\n",
      "10/10 [==============================] - 4s 414ms/step - loss: 1.3382e-04 - accuracy: 1.0000\n",
      "Epoch 30/30\n",
      "10/10 [==============================] - 4s 415ms/step - loss: 1.3126e-04 - accuracy: 1.0000\n",
      "4/4 - 2s - loss: 0.0777 - accuracy: 0.9685 - 2s/epoch - 388ms/step\n",
      "\n",
      "Test accuracy: 0.9685039520263672\n"
     ]
    }
   ],
   "source": [
    "model.summary()\n",
    "\n",
    "model.compile(optimizer='adam', loss= tf.keras.losses.SparseCategoricalCrossentropy(from_logits=True), metrics=['accuracy'])\n",
    "\n",
    "model.fit(trainImages, trainLabels, epochs=30)\n",
    "\n",
    "testLoss, testAcc = model.evaluate(testImages, testLabels, verbose=2)\n",
    "\n",
    "print('\\nTest accuracy:', testAcc)\n",
    "\n",
    "predictions = model.predict(testImages)"
   ]
  },
  {
   "cell_type": "code",
   "execution_count": 8,
   "metadata": {},
   "outputs": [],
   "source": [
    "import os \n",
    "\n",
    "maxIterations = 5\n",
    "testAccList = []\n",
    "thresholdAcc = 0.90\n",
    "lastTestAcc = 0.0\n",
    "\n",
    "model = None\n",
    "testLoss = 0.0\n",
    "testAcc = 0.0\n",
    "modelDir = 'tf_model'\n",
    "\n",
    "start = time.time() "
   ]
  },
  {
   "cell_type": "code",
   "execution_count": 9,
   "metadata": {},
   "outputs": [
    {
     "name": "stdout",
     "output_type": "stream",
     "text": [
      "Simulation 1/5... test accuracy 0.960629940032959... INFO:tensorflow:Assets written to: tf_model\\tf_96\\assets\n",
      "\n",
      "export path = tf_model\\tf_96\n",
      "Simulation 2/5... test accuracy 0.8818897604942322... Simulation 3/5... test accuracy 0.960629940032959... Simulation 4/5... test accuracy 0.913385808467865... Simulation 5/5... test accuracy 0.9448819160461426... Time elapsed: 209.84184503555298\n",
      "\n",
      "Done all.\n"
     ]
    }
   ],
   "source": [
    "for iter in range(maxIterations):\n",
    "    \n",
    "    print(f'Simulation {iter+1}/{maxIterations}', end='... ')\n",
    "    \n",
    "    model = tf.keras.Sequential([\n",
    "        tf.keras.layers.Flatten(input_shape=inputShape),\n",
    "        tf.keras.layers.Dense(128, activation='relu'),\n",
    "#         tf.keras.layers.Dense(128, activation='relu'),\n",
    "        tf.keras.layers.Dense(outputShape)\n",
    "    ])\n",
    "\n",
    "    # model.summary()\n",
    "\n",
    "    model.compile(optimizer='adam',\n",
    "                  loss = tf.keras.losses.SparseCategoricalCrossentropy(from_logits=True),\n",
    "                  metrics = ['accuracy'])\n",
    "\n",
    "    model.fit(trainImages, trainLabels, epochs = 10, verbose=0)\n",
    "\n",
    "    testLoss, testAcc = model.evaluate(testImages, testLabels, verbose=0)\n",
    "\n",
    "    testAccList.append(testAcc)\n",
    "\n",
    "    # print('\\ntest accuracy:',testAcc)\n",
    "    print(f'test accuracy {testAcc}', end='... ')\n",
    "    \n",
    "\n",
    "    exportPath = ''\n",
    "\n",
    "    # Save model if greater than threshold-accuracy 0.9\n",
    "    if testAcc > thresholdAcc:\n",
    "        # SavedModel format\n",
    "        version = f'tf_{testAcc*100:.0f}'\n",
    "\n",
    "        # for SavedModel format\n",
    "        exportPath = os.path.join(modelDir, version)\n",
    "\n",
    "        # Save the model\n",
    "        model.save(exportPath, save_format = 'tf')\n",
    "        print(f'\\nexport path = {exportPath}')\n",
    "\n",
    "        # HDF5 format\n",
    "#         exportPath = os.path.join(modelDir, f'{version}.h5')\n",
    "#         # Save the entire model to a HDF5 file.\n",
    "#         # The .h5 extension indicates that the model should be saved to HDF5\n",
    "#         model.save(exportPath)\n",
    "# #         print('Saved: ', exportPath)\n",
    "#         print(f'export path {exportPath}', end='')\n",
    "        \n",
    "\n",
    "        thresholdAcc = testAcc\n",
    "        \n",
    "end = time.time()\n",
    "times = end - start\n",
    "print('Time elapsed:', times)\n",
    "print('\\nDone all.')"
   ]
  }
 ],
 "metadata": {
  "interpreter": {
   "hash": "c1a7846af735771808fbc8272134e7984cc669109ae413ca91ad8b74a534aa1b"
  },
  "kernelspec": {
   "display_name": "Python 3.9.9 64-bit",
   "language": "python",
   "name": "python3"
  },
  "language_info": {
   "codemirror_mode": {
    "name": "ipython",
    "version": 3
   },
   "file_extension": ".py",
   "mimetype": "text/x-python",
   "name": "python",
   "nbconvert_exporter": "python",
   "pygments_lexer": "ipython3",
   "version": "3.9.9"
  },
  "orig_nbformat": 4
 },
 "nbformat": 4,
 "nbformat_minor": 2
}
