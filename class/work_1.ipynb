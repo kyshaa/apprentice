{
 "cells": [
  {
   "cell_type": "code",
   "execution_count": 5,
   "id": "945f01ee-661b-475c-a3d3-871f4d201c05",
   "metadata": {},
   "outputs": [
    {
     "data": {
      "text/plain": [
       "4"
      ]
     },
     "execution_count": 5,
     "metadata": {},
     "output_type": "execute_result"
    }
   ],
   "source": [
    "2 * 2"
   ]
  },
  {
   "cell_type": "code",
   "execution_count": 6,
   "id": "a2a085e9-a698-4919-984e-77cf77fd6e3c",
   "metadata": {},
   "outputs": [],
   "source": [
    "x = 1\n",
    "y = 2"
   ]
  },
  {
   "cell_type": "code",
   "execution_count": 7,
   "id": "c9f48a67-16d2-4b62-9eb7-80acd0fbcf68",
   "metadata": {},
   "outputs": [
    {
     "data": {
      "text/plain": [
       "3"
      ]
     },
     "execution_count": 7,
     "metadata": {},
     "output_type": "execute_result"
    }
   ],
   "source": [
    "1 + 2"
   ]
  },
  {
   "cell_type": "code",
   "execution_count": 8,
   "id": "a4c314be-bce0-4fe2-aaf2-35a6622d08bc",
   "metadata": {},
   "outputs": [
    {
     "data": {
      "text/plain": [
       "3"
      ]
     },
     "execution_count": 8,
     "metadata": {},
     "output_type": "execute_result"
    }
   ],
   "source": [
    "x + y"
   ]
  },
  {
   "cell_type": "code",
   "execution_count": null,
   "id": "89cb12b3-732f-441b-88cc-fff850ddb849",
   "metadata": {},
   "outputs": [],
   "source": [
    "# single line comment : # my name is kisha ha ha  "
   ]
  },
  {
   "cell_type": "code",
   "execution_count": 9,
   "id": "e386752c-bbdf-436a-ba67-c749bd87ddbc",
   "metadata": {},
   "outputs": [
    {
     "data": {
      "text/plain": [
       "'\\nOld macdonald had a farm\\ne-i-e-i-o\\n'"
      ]
     },
     "execution_count": 9,
     "metadata": {},
     "output_type": "execute_result"
    }
   ],
   "source": [
    "# multi line comment  :\n",
    "\"\"\"\n",
    "Old macdonald had a farm\n",
    "e-i-e-i-o\n",
    "\"\"\"\n"
   ]
  },
  {
   "cell_type": "code",
   "execution_count": 10,
   "id": "d726df90-4180-4182-83ff-c49ba693e940",
   "metadata": {},
   "outputs": [],
   "source": [
    "# variable practice\n",
    "_a = 4"
   ]
  },
  {
   "cell_type": "code",
   "execution_count": 11,
   "id": "92b3bf79-2fd6-4d76-ac64-0a0d33a74a00",
   "metadata": {},
   "outputs": [
    {
     "name": "stdout",
     "output_type": "stream",
     "text": [
      "4\n"
     ]
    }
   ],
   "source": [
    "print(_a)"
   ]
  },
  {
   "cell_type": "code",
   "execution_count": 12,
   "id": "ce400a4f-a812-4c2f-b5b7-48bc4bca07c0",
   "metadata": {},
   "outputs": [
    {
     "name": "stdout",
     "output_type": "stream",
     "text": [
      "5\n"
     ]
    }
   ],
   "source": [
    "_A = 5\n",
    "print(_A)"
   ]
  },
  {
   "cell_type": "code",
   "execution_count": 13,
   "id": "7a1a8126-801e-4578-88de-3e3999a33641",
   "metadata": {},
   "outputs": [
    {
     "name": "stdout",
     "output_type": "stream",
     "text": [
      "20 song 45.4\n"
     ]
    }
   ],
   "source": [
    "amount = 20\n",
    "name = \"song\"\n",
    "price = 45.40\n",
    "print(amount, name, price)"
   ]
  },
  {
   "cell_type": "code",
   "execution_count": 14,
   "id": "27aa64d3-17ac-4ce4-b48d-0dd96d8bbb04",
   "metadata": {},
   "outputs": [],
   "source": [
    "amount, name, price = 20, \"peter\", 45.40"
   ]
  },
  {
   "cell_type": "code",
   "execution_count": 16,
   "id": "c0e660a3-c54a-4146-a5d2-045241c32d47",
   "metadata": {},
   "outputs": [
    {
     "name": "stdin",
     "output_type": "stream",
     "text": [
      "Please enter yur name:  Kisha\n"
     ]
    }
   ],
   "source": [
    "name = input(\"Please enter yur name: \")"
   ]
  },
  {
   "cell_type": "code",
   "execution_count": 17,
   "id": "27319d89-6f11-4219-bc14-922161822cd2",
   "metadata": {},
   "outputs": [
    {
     "name": "stdout",
     "output_type": "stream",
     "text": [
      "Kisha\n"
     ]
    }
   ],
   "source": [
    "print(name)"
   ]
  },
  {
   "cell_type": "code",
   "execution_count": 18,
   "id": "287b6f7b-f308-4783-a8f1-bec02cfe9287",
   "metadata": {},
   "outputs": [
    {
     "name": "stdin",
     "output_type": "stream",
     "text": [
      "Your age :  24\n"
     ]
    }
   ],
   "source": [
    "age = input(\"Your age : \")"
   ]
  },
  {
   "cell_type": "code",
   "execution_count": 19,
   "id": "aeb16968-47dd-44fb-9ef1-79869ef4cc24",
   "metadata": {},
   "outputs": [
    {
     "data": {
      "text/plain": [
       "'24'"
      ]
     },
     "execution_count": 19,
     "metadata": {},
     "output_type": "execute_result"
    }
   ],
   "source": [
    "age"
   ]
  },
  {
   "cell_type": "code",
   "execution_count": 20,
   "id": "b32e31a4-3b94-442d-941f-b708bd3145d8",
   "metadata": {},
   "outputs": [
    {
     "data": {
      "text/plain": [
       "'Kisha'"
      ]
     },
     "metadata": {},
     "output_type": "display_data"
    }
   ],
   "source": [
    "display(name)"
   ]
  },
  {
   "cell_type": "code",
   "execution_count": 56,
   "id": "82cafcce-9ed3-4a02-952e-9c6109da3062",
   "metadata": {
    "tags": []
   },
   "outputs": [
    {
     "name": "stdout",
     "output_type": "stream",
     "text": [
      "Please enter your details\n",
      "\n"
     ]
    },
    {
     "name": "stdin",
     "output_type": "stream",
     "text": [
      "Name :  Kisha\n",
      "Age:  24\n",
      "IC No. :  970217069999\n",
      "Phone No. :  0112233445566\n",
      "Email :  song@gmail.com\n",
      "Gender:  Woman\n",
      "Marital status :  single\n",
      "Address :  Cheongdam-dong Gangnam\n",
      "State :  Seoul\n",
      "Country :  Korea\n"
     ]
    }
   ],
   "source": [
    "# Variables Exercise\n",
    "\n",
    "print(\"Please enter your details\")\n",
    "print()\n",
    "name = input(\"Name : \")\n",
    "age = int(input(\"Age: \"))\n",
    "age_string = str(age)  #convert first int to str to use \"len\"\n",
    "if len(age_string) > 3:\n",
    "    print(\"Error! Only 3 digits allowed!\")\n",
    "    sys.exit()\n",
    "    \n",
    "IC = int(input(\"IC No. : \"))\n",
    "a_string = str(IC)  #convert first int to str to use \"len\"\n",
    "if len(a_string) > 12:\n",
    "    print(\"Error! Only 12 digits allowed!\")\n",
    "    sys.exit()\n",
    "    \n",
    "phone = int(input(\"Phone No. : \"))\n",
    "email = input(\"Email : \")\n",
    "gender = input (\"Gender: \")\n",
    "ms= input (\"Marital status : \")\n",
    "address = input (\"Address : \")\n",
    "state= input (\"State : \")\n",
    "country = input (\"Country : \")\n"
   ]
  },
  {
   "cell_type": "code",
   "execution_count": 57,
   "id": "d468ab44-7fe1-4842-ac27-ec6eea9651f3",
   "metadata": {},
   "outputs": [
    {
     "name": "stdout",
     "output_type": "stream",
     "text": [
      "Hi. My name is Kisha .I'm  24 years young. I live in Seoul as a single and happy Woman\n"
     ]
    }
   ],
   "source": [
    "print(\"Hi. My name is\", name,\".I'm \",age, \"years young. I live in\", state, \"as a\", ms, \"and happy\", gender)"
   ]
  },
  {
   "cell_type": "code",
   "execution_count": null,
   "id": "48c93a60-64cd-43b3-8860-0ced59349d19",
   "metadata": {},
   "outputs": [],
   "source": []
  }
 ],
 "metadata": {
  "kernelspec": {
   "display_name": "Python 3 (ipykernel)",
   "language": "python",
   "name": "python3"
  },
  "language_info": {
   "codemirror_mode": {
    "name": "ipython",
    "version": 3
   },
   "file_extension": ".py",
   "mimetype": "text/x-python",
   "name": "python",
   "nbconvert_exporter": "python",
   "pygments_lexer": "ipython3",
   "version": "3.9.1"
  }
 },
 "nbformat": 4,
 "nbformat_minor": 5
}
