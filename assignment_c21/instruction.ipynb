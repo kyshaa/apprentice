{
 "cells": [
  {
   "cell_type": "markdown",
   "metadata": {},
   "source": [
    "# Assignment \n",
    "\n",
    "Using VS code (or alternative) develop the codes in separate .py file for the questions below : (put the files in my_project folder)\n",
    "\n",
    "1. Use the python interpreter to solve the following system of the linear equation: "
   ]
  },
  {
   "cell_type": "markdown",
   "metadata": {},
   "source": [
    "$$\n",
    "\n",
    "2x + y + z = 2 \\\\\n",
    "x + y = 2 \\\\\n",
    "y - 3x = 1\\\\\n",
    "\n",
    "$$"
   ]
  },
  {
   "cell_type": "markdown",
   "metadata": {},
   "source": [
    "2. Read and display an image using opencv"
   ]
  }
 ],
 "metadata": {
  "language_info": {
   "name": "python"
  },
  "orig_nbformat": 4
 },
 "nbformat": 4,
 "nbformat_minor": 2
}
